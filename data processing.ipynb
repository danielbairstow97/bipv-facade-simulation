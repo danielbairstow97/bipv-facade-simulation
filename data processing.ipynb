{
 "cells": [
  {
   "cell_type": "code",
   "execution_count": 2,
   "id": "06bea268",
   "metadata": {},
   "outputs": [],
   "source": [
    "import pandas as pd\n",
    "import numpy as np\n",
    "\n",
    "\n",
    "import matplotlib.pyplot as plt"
   ]
  },
  {
   "cell_type": "markdown",
   "id": "7f5b3feb",
   "metadata": {},
   "source": [
    "### Modelling Average Electricity Demand"
   ]
  },
  {
   "cell_type": "code",
   "execution_count": null,
   "id": "787439da",
   "metadata": {},
   "outputs": [],
   "source": [
    "profile_df = pd.read_excel('data/demand/electricity-usage.xlsx', index_col=0)\n",
    "postcode_demand_df = pd.read_excel(\n",
    "    'data/demand/Energy-Usage-by-Postcode.xlsx', sheet_name='Usage by Postcode', skiprows=1)\n",
    "residential_usage = postcode_demand_df[\n",
    "    (postcode_demand_df['Data Type'] == 'Energy per customer per day (kWh)') &\n",
    "    (postcode_demand_df['Data Type'] == 'Energy per customer per day (kWh)') &\n",
    "    (postcode_demand_df['Customer/Consumption Type'] == 'Residential')\n",
    "].set_index(['Year', 'Postcode'])"
   ]
  },
  {
   "cell_type": "code",
   "execution_count": null,
   "id": "662fcf7c",
   "metadata": {},
   "outputs": [],
   "source": [
    "MONTH_COLUMNS = ['January',\t'February',\t'March', 'April',\t'May',\t'June',\n",
    "                 'July',\t'August',\t'September',\t'October',\t'November',\t'December']\n",
    "postcode = 4101\n",
    "\n",
    "\n",
    "normalised_profile = profile_df / profile_df.sum()\n",
    "\n",
    "postcode_usage_profile = normalised_profile.multiply(\n",
    "    residential_usage.loc[2024, postcode][MONTH_COLUMNS])\n",
    "apartment_usage_profile = postcode_usage_profile * .79\n",
    "apartment_usage_profile.to_csv('data/processed/4101_monthly_usage_profile.csv')"
   ]
  },
  {
   "cell_type": "code",
   "execution_count": 158,
   "id": "14e585fb",
   "metadata": {},
   "outputs": [],
   "source": [
    "x = pd.concat([profile_df['January'], apartment_usage_profile['January'],\n",
    "              normalised_profile['January']], axis=1)\n",
    "x.columns = ['Queensland Profile', '4104 Profile',\n",
    "             'Normalised Queensland Profile']\n",
    "x.reset_index()\n",
    "x.to_csv('x.csv')"
   ]
  },
  {
   "cell_type": "markdown",
   "id": "111a8a7d",
   "metadata": {},
   "source": [
    "### Getting hourly emissions intensity"
   ]
  },
  {
   "cell_type": "code",
   "execution_count": 17,
   "id": "20355fe9",
   "metadata": {},
   "outputs": [],
   "source": [
    "df = pd.read_csv('data/grid-generation/20250428 Queensland.csv')\n",
    "df = df[['date', 'Emissions Intensity - kgCO₂e/MWh', 'Price - AUD/MWh']]\n",
    "df['date'] = pd.to_datetime(df['date'])\n",
    "daily_ci = df.groupby(df.date.dt.hour).mean()\n",
    "daily_ci.index.name = 'hour'\n",
    "daily_ci = daily_ci.rename(columns={\n",
    "                           'Emissions Intensity - kgCO₂e/MWh': 'Emissions Intensity - kgCO₂e/KWh'}, errors='raise')\n",
    "daily_ci['Emissions Intensity - kgCO₂e/KWh'] = daily_ci['Emissions Intensity - kgCO₂e/KWh'] / 1000\n",
    "daily_ci = daily_ci.drop('date', axis=1)\n",
    "daily_ci.to_csv('data/processed/grid_ci.csv')"
   ]
  },
  {
   "cell_type": "markdown",
   "id": "e90fe885",
   "metadata": {},
   "source": [
    "## Construct demand dataset"
   ]
  },
  {
   "cell_type": "code",
   "execution_count": 173,
   "id": "f29c322a",
   "metadata": {},
   "outputs": [],
   "source": [
    "import pandas as pd\n",
    "import numpy as np\n",
    "from calendar import monthrange\n",
    "from datetime import datetime\n",
    "\n",
    "# Assume df is your (24, 12) DataFrame with index Hour, columns January...December\n",
    "apartment_usage_profile.columns = [col.strip()\n",
    "                                   for col in apartment_usage_profile.columns]\n",
    "\n",
    "# Build a daily profile interpolated smoothly\n",
    "months = apartment_usage_profile.columns.tolist()\n",
    "month_to_day = {\n",
    "    month: datetime(2013, i+1, 15).timetuple().tm_yday  # center at 15th\n",
    "    for i, month in enumerate(months)\n",
    "}\n",
    "\n",
    "# Day of year range\n",
    "days_of_year = np.arange(1, 366)  # Non-leap year\n",
    "\n",
    "# Initialize result container\n",
    "interpolated_profiles = np.zeros((len(days_of_year), 24))\n",
    "\n",
    "# Loop over each hour and interpolate over day of year\n",
    "for hour in range(24):\n",
    "    # Extract hourly values across months\n",
    "    values = apartment_usage_profile.loc[hour].values\n",
    "    centers = np.array(list(month_to_day.values()))\n",
    "\n",
    "    # Interpolate across the full year using cubic spline or cosine weights\n",
    "    interpolated = np.interp(\n",
    "        days_of_year,\n",
    "        centers,\n",
    "        values,\n",
    "        period=365  # to wrap around the year\n",
    "    )\n",
    "\n",
    "    interpolated_profiles[:, hour] = interpolated\n",
    "\n",
    "# Now expand this into hourly series (365 days × 24 hours)\n",
    "hourly_values = interpolated_profiles.repeat(24, axis=0).reshape(-1)[:8760]\n",
    "\n",
    "# Apply hourly pattern\n",
    "pattern = np.tile(np.arange(24), 365)\n",
    "hourly_profile = np.zeros(8760)\n",
    "\n",
    "for h in range(24):\n",
    "    hourly_profile[pattern == h] = interpolated_profiles[:, h]\n",
    "\n",
    "# Build datetime index\n",
    "dt_index = pd.date_range(\"2013-01-01\", \"2013-12-31 23:00\", freq=\"h\")\n",
    "hourly_demand = pd.Series(\n",
    "    hourly_profile, index=dt_index, name=\"Demand (KWh)\")\n",
    "hourly_demand.index.name = 'Datetime'\n",
    "hourly_demand.to_csv('data/processed/demand_timeseries.csv')"
   ]
  }
 ],
 "metadata": {
  "kernelspec": {
   "display_name": "Python 3",
   "language": "python",
   "name": "python3"
  },
  "language_info": {
   "codemirror_mode": {
    "name": "ipython",
    "version": 3
   },
   "file_extension": ".py",
   "mimetype": "text/x-python",
   "name": "python",
   "nbconvert_exporter": "python",
   "pygments_lexer": "ipython3",
   "version": "3.12.1"
  }
 },
 "nbformat": 4,
 "nbformat_minor": 5
}
